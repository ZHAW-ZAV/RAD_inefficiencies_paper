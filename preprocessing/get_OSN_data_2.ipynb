{
 "cells": [
  {
   "cell_type": "markdown",
   "metadata": {},
   "source": [
    "***\n",
    "### Import of required libraries\n",
    "***"
   ]
  },
  {
   "cell_type": "code",
   "execution_count": 1,
   "metadata": {
    "tags": []
   },
   "outputs": [
    {
     "name": "stderr",
     "output_type": "stream",
     "text": [
      "/home/mora/.conda/envs/traffic/lib/python3.10/site-packages/pyopensky/impala.py:17: TqdmExperimentalWarning: Using `tqdm.autonotebook.tqdm` in notebook mode. Use `tqdm.tqdm` instead to force console mode (e.g. in jupyter console)\n",
      "  from tqdm.autonotebook import tqdm\n"
     ]
    }
   ],
   "source": [
    "from traffic.data import opensky\n",
    "\n",
    "from traffic.core import Traffic\n",
    "import pandas as pd"
   ]
  },
  {
   "cell_type": "markdown",
   "metadata": {},
   "source": [
    "***\n",
    "### Import of flightplan data\n",
    "***"
   ]
  },
  {
   "cell_type": "code",
   "execution_count": 2,
   "metadata": {
    "tags": []
   },
   "outputs": [],
   "source": [
    "flightplan_path = (\n",
    "    \"/store/Projects_CRM/RAD_paper/RAD_new_data/flightplans_complete.parquet\"\n",
    ")\n",
    "flightplans = pd.read_parquet(flightplan_path)"
   ]
  },
  {
   "cell_type": "markdown",
   "metadata": {},
   "source": [
    "***\n",
    "### Download trajectory data per airport pair and direction\n",
    "***"
   ]
  },
  {
   "cell_type": "markdown",
   "metadata": {},
   "source": [
    "##### Function to remove invalid trajectories"
   ]
  },
  {
   "cell_type": "code",
   "execution_count": 3,
   "metadata": {
    "tags": []
   },
   "outputs": [],
   "source": [
    "def remove_invalid(flight):\n",
    "    if (\n",
    "        (len(flight.data) > 600)\n",
    "        and (flight.data.altitude.max() > 10000)\n",
    "        and (flight.cumulative_distance().data.cumdist.max() >= 10)\n",
    "    ):\n",
    "        return flight"
   ]
  },
  {
   "cell_type": "markdown",
   "metadata": {},
   "source": [
    "##### London airports to consider"
   ]
  },
  {
   "cell_type": "code",
   "execution_count": 4,
   "metadata": {
    "tags": []
   },
   "outputs": [],
   "source": [
    "london_airports = [\n",
    "    \"EGLL\",  # Heathrow\n",
    "    \"EGLC\",  # London City\n",
    "    \"EGKK\",  # Gatwick\n",
    "]"
   ]
  },
  {
   "cell_type": "markdown",
   "metadata": {},
   "source": [
    "##### Fetching of data"
   ]
  },
  {
   "cell_type": "code",
   "execution_count": 5,
   "metadata": {
    "tags": []
   },
   "outputs": [
    {
     "name": "stdout",
     "output_type": "stream",
     "text": [
      "processing Zurich to London EGLL\n"
     ]
    },
    {
     "data": {
      "application/vnd.jupyter.widget-view+json": {
       "model_id": "0b5273259cd44946bb2eeefd57dfa701",
       "version_major": 2,
       "version_minor": 0
      },
      "text/plain": [
       "preprocessing:   0%|          | 0/2271 [00:00<?, ?it/s]"
      ]
     },
     "metadata": {},
     "output_type": "display_data"
    },
    {
     "data": {
      "application/vnd.jupyter.widget-view+json": {
       "model_id": "1525dead3f934915947c507c3efed296",
       "version_major": 2,
       "version_minor": 0
      },
      "text/plain": [
       "removing invalid:   0%|          | 0/2271 [00:00<?, ?it/s]"
      ]
     },
     "metadata": {},
     "output_type": "display_data"
    },
    {
     "name": "stdout",
     "output_type": "stream",
     "text": [
      "processing London EGLL to Zurich\n"
     ]
    },
    {
     "data": {
      "application/vnd.jupyter.widget-view+json": {
       "model_id": "bb08129f1db14565960399a2b40dab1d",
       "version_major": 2,
       "version_minor": 0
      },
      "text/plain": [
       "preprocessing:   0%|          | 0/2614 [00:00<?, ?it/s]"
      ]
     },
     "metadata": {},
     "output_type": "display_data"
    },
    {
     "data": {
      "application/vnd.jupyter.widget-view+json": {
       "model_id": "0d1192f79ad849a88a39d50594c65fc1",
       "version_major": 2,
       "version_minor": 0
      },
      "text/plain": [
       "removing invalid:   0%|          | 0/2614 [00:00<?, ?it/s]"
      ]
     },
     "metadata": {},
     "output_type": "display_data"
    },
    {
     "name": "stdout",
     "output_type": "stream",
     "text": [
      "processing Zurich to London EGLC\n"
     ]
    },
    {
     "data": {
      "application/vnd.jupyter.widget-view+json": {
       "model_id": "ca6ce5e341ce4303b79449e3adc41ff9",
       "version_major": 2,
       "version_minor": 0
      },
      "text/plain": [
       "preprocessing:   0%|          | 0/2030 [00:00<?, ?it/s]"
      ]
     },
     "metadata": {},
     "output_type": "display_data"
    },
    {
     "data": {
      "application/vnd.jupyter.widget-view+json": {
       "model_id": "10da5a321b224a79a4555377ab93f3af",
       "version_major": 2,
       "version_minor": 0
      },
      "text/plain": [
       "removing invalid:   0%|          | 0/2030 [00:00<?, ?it/s]"
      ]
     },
     "metadata": {},
     "output_type": "display_data"
    },
    {
     "name": "stdout",
     "output_type": "stream",
     "text": [
      "processing London EGLC to Zurich\n"
     ]
    },
    {
     "data": {
      "application/vnd.jupyter.widget-view+json": {
       "model_id": "c4dc4a538ee8494eb13d9f4abaf61cc4",
       "version_major": 2,
       "version_minor": 0
      },
      "text/plain": [
       "preprocessing:   0%|          | 0/2649 [00:00<?, ?it/s]"
      ]
     },
     "metadata": {},
     "output_type": "display_data"
    },
    {
     "data": {
      "application/vnd.jupyter.widget-view+json": {
       "model_id": "247ca80a94f740ba8d81452824d3fcec",
       "version_major": 2,
       "version_minor": 0
      },
      "text/plain": [
       "removing invalid:   0%|          | 0/2649 [00:00<?, ?it/s]"
      ]
     },
     "metadata": {},
     "output_type": "display_data"
    },
    {
     "name": "stdout",
     "output_type": "stream",
     "text": [
      "processing Zurich to London EGKK\n"
     ]
    },
    {
     "data": {
      "application/vnd.jupyter.widget-view+json": {
       "model_id": "99231cd9ed7e47a0903ac0cc12fadf44",
       "version_major": 2,
       "version_minor": 0
      },
      "text/plain": [
       "preprocessing:   0%|          | 0/460 [00:00<?, ?it/s]"
      ]
     },
     "metadata": {},
     "output_type": "display_data"
    },
    {
     "data": {
      "application/vnd.jupyter.widget-view+json": {
       "model_id": "b4e854a0476746d6bb09e9a723755adf",
       "version_major": 2,
       "version_minor": 0
      },
      "text/plain": [
       "removing invalid:   0%|          | 0/460 [00:00<?, ?it/s]"
      ]
     },
     "metadata": {},
     "output_type": "display_data"
    },
    {
     "name": "stdout",
     "output_type": "stream",
     "text": [
      "processing London EGKK to Zurich\n"
     ]
    },
    {
     "data": {
      "application/vnd.jupyter.widget-view+json": {
       "model_id": "0ea1dec9ff9a4d54be3bc4d1fccbb839",
       "version_major": 2,
       "version_minor": 0
      },
      "text/plain": [
       "preprocessing:   0%|          | 0/751 [00:00<?, ?it/s]"
      ]
     },
     "metadata": {},
     "output_type": "display_data"
    },
    {
     "data": {
      "application/vnd.jupyter.widget-view+json": {
       "model_id": "3cbcf8e42fda47d390815013a4a7d7a1",
       "version_major": 2,
       "version_minor": 0
      },
      "text/plain": [
       "removing invalid:   0%|          | 0/751 [00:00<?, ?it/s]"
      ]
     },
     "metadata": {},
     "output_type": "display_data"
    }
   ],
   "source": [
    "# Path where to store the trajectory data\n",
    "base_path = \"/store/Projects_CRM/RAD_paper/RAD_new_data/trajectories/\"\n",
    "\n",
    "# Iterate over london airports\n",
    "for airport in london_airports:\n",
    "    # Fetch Zurich to London\n",
    "    print(f\"processing Zurich to London {airport}\")\n",
    "    callsigns = flightplans.query(\n",
    "        \"origin == 'LSZH' and destination == @airport\"\n",
    "    ).callsign.unique()\n",
    "    t = opensky.history(\n",
    "        start=\"2024-05-01 00:00:00\",\n",
    "        stop=\"2024-10-16 00:00:00\",\n",
    "        callsign=callsigns,\n",
    "    )\n",
    "    if t is not None:\n",
    "        t = t.clean_invalid().assign_id().eval(max_workers=20, desc=\"preprocessing\")\n",
    "        t = (\n",
    "            t.iterate_lazy()\n",
    "            .pipe(remove_invalid)\n",
    "            .eval(max_workers=20, desc=\"removing invalid\")\n",
    "        )\n",
    "        t.to_parquet(f\"{base_path}zurich_to_london_{airport}.parquet\")\n",
    "\n",
    "    # Fetch London to Zurich\n",
    "    print(f\"processing London {airport} to Zurich\")\n",
    "    callsigns = flightplans.query(\n",
    "        \"origin == @airport and destination == 'LSZH'\"\n",
    "    ).callsign.unique()\n",
    "\n",
    "    t = opensky.history(\n",
    "        start=\"2024-05-01 00:00:00\",\n",
    "        stop=\"2024-10-16 00:00:00\",\n",
    "        callsign=callsigns,\n",
    "    )\n",
    "    if t is not None:\n",
    "        t = t.clean_invalid().assign_id().eval(max_workers=20, desc=\"preprocessing\")\n",
    "        t = (\n",
    "            t.iterate_lazy()\n",
    "            .pipe(remove_invalid)\n",
    "            .eval(max_workers=20, desc=\"removing invalid\")\n",
    "        )\n",
    "        t.to_parquet(f\"{base_path}london_to_zurich_{airport}.parquet\")"
   ]
  }
 ],
 "metadata": {
  "kernelspec": {
   "display_name": "conda traffic 20c long",
   "language": "python",
   "name": "jupyter-eg-kernel-slurm-py-conda-1ia9vqls1"
  }
 },
 "nbformat": 4,
 "nbformat_minor": 4
}
