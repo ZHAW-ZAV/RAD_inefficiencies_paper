{
 "cells": [
  {
   "cell_type": "markdown",
   "metadata": {},
   "source": [
    "***\n",
    "### Import of required libraries\n",
    "***"
   ]
  },
  {
   "cell_type": "code",
   "execution_count": null,
   "metadata": {
    "tags": []
   },
   "outputs": [],
   "source": [
    "from traffic.data import opensky\n",
    "\n",
    "from traffic.core import Traffic\n",
    "import pandas as pd"
   ]
  },
  {
   "cell_type": "markdown",
   "metadata": {},
   "source": [
    "***\n",
    "### Import of flightplan data\n",
    "***"
   ]
  },
  {
   "cell_type": "code",
   "execution_count": null,
   "metadata": {
    "tags": []
   },
   "outputs": [],
   "source": [
    "flightplan_path = \"/mnt/beegfs/store/Projects_CRM/RAD_paper/flightplans/flightplans_complete.parquet\"\n",
    "flightplans = pd.read_parquet(flightplan_path)"
   ]
  },
  {
   "cell_type": "markdown",
   "metadata": {},
   "source": [
    "***\n",
    "### Download trajectory data per airport pair and direction\n",
    "***"
   ]
  },
  {
   "cell_type": "markdown",
   "metadata": {},
   "source": [
    "##### Function to remove invalid trajectories"
   ]
  },
  {
   "cell_type": "code",
   "execution_count": null,
   "metadata": {
    "tags": []
   },
   "outputs": [],
   "source": [
    "def remove_invalid(flight):\n",
    "    if (\n",
    "        (len(flight.data) > 600)\n",
    "        and (flight.data.altitude.max() > 10000)\n",
    "        and (flight.cumulative_distance().data.cumdist.max() >= 10)\n",
    "    ):\n",
    "        return flight"
   ]
  },
  {
   "cell_type": "markdown",
   "metadata": {},
   "source": [
    "##### London airports to consider"
   ]
  },
  {
   "cell_type": "code",
   "execution_count": null,
   "metadata": {
    "tags": []
   },
   "outputs": [],
   "source": [
    "london_airports = [\n",
    "    \"EGLL\",  # Heathrow\n",
    "    \"EGLC\",  # London City\n",
    "    \"EGKK\",  # Gatwick\n",
    "]"
   ]
  },
  {
   "cell_type": "markdown",
   "metadata": {},
   "source": [
    "##### Fetching of data"
   ]
  },
  {
   "cell_type": "code",
   "execution_count": null,
   "metadata": {
    "tags": []
   },
   "outputs": [],
   "source": [
    "# Path where to store the trajectory data\n",
    "base_path = \"/store/Projects_CRM/RAD_paper/trajectories/new/\"\n",
    "\n",
    "# Iterate over london airports\n",
    "for airport in london_airports:\n",
    "\n",
    "    # Fetch Zurich to London\n",
    "    print(f\"processing Zurich to London {airport}\")\n",
    "    callsigns = flightplans.query(\n",
    "        \"origin == 'LSZH' and destination == @airport\"\n",
    "    ).callsign.unique()\n",
    "    t = opensky.history(\n",
    "        start=\"2023-05-01 00:00:00\",\n",
    "        stop=\"2024-05-02 00:00:00\",\n",
    "        callsign=callsigns,\n",
    "    )\n",
    "    if t is not None:\n",
    "        t = t.clean_invalid().assign_id().eval(max_workers=20, desc=\"preprocessing\")\n",
    "        t = t.iterate_lazy().pipe(remove_invalid).eval(max_workers=20, desc=\"removing invalid\")\n",
    "        t.to_parquet(f\"{base_path}zurich_to_london_{airport}.parquet\")\n",
    "\n",
    "    # Fetch London to Zurich\n",
    "    print(f\"processing London {airport} to Zurich\")\n",
    "    callsigns = flightplans.query(\n",
    "        \"origin == @airport and destination == 'LSZH'\"\n",
    "    ).callsign.unique()\n",
    "\n",
    "    t = opensky.history(\n",
    "        start=\"2023-05-01 00:00:00\",\n",
    "        stop=\"2024-05-02 00:00:00\",\n",
    "        callsign=callsigns,\n",
    "    )\n",
    "    if t is not None:\n",
    "        t = t.clean_invalid().assign_id().eval(max_workers=20, desc=\"preprocessing\")\n",
    "        t = t.iterate_lazy().pipe(remove_invalid).eval(max_workers=20, desc=\"removing invalid\")\n",
    "        t.to_parquet(f\"{base_path}london_to_zurich_{airport}.parquet\")"
   ]
  }
 ],
 "metadata": {
  "kernelspec": {
   "display_name": "Poetry via SLURM RAD",
   "language": "python",
   "name": "jupyter-eg-kernel-slurm-py39-poetry-1husc7pbp"
  }
 },
 "nbformat": 4,
 "nbformat_minor": 4
}
