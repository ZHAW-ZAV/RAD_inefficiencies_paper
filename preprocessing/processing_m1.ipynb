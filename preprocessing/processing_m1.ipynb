{
 "cells": [
  {
   "cell_type": "markdown",
   "metadata": {},
   "source": [
    "***\n",
    "### Import of required libraries\n",
    "***"
   ]
  },
  {
   "cell_type": "code",
   "execution_count": null,
   "metadata": {},
   "outputs": [],
   "source": [
    "import glob\n",
    "from tqdm.auto import tqdm\n",
    "import pandas as pd"
   ]
  },
  {
   "cell_type": "markdown",
   "metadata": {},
   "source": [
    "***\n",
    "### Import of data\n",
    "***"
   ]
  },
  {
   "cell_type": "markdown",
   "metadata": {},
   "source": [
    "##### Import of M1 data"
   ]
  },
  {
   "cell_type": "code",
   "execution_count": null,
   "metadata": {},
   "outputs": [],
   "source": [
    "# Get a list of all the m1 so6 files\n",
    "filelist = glob.glob(\n",
    "    \"/mnt/beegfs/store/Projects_CRM/RAD_paper/flightplans/m1_daily/*.so6\"\n",
    ")\n",
    "\n",
    "# Create a list to store the daily dataframes\n",
    "read_files = []\n",
    "\n",
    "# Loop through the files and read them into a dataframe which is then appended\n",
    "# to the list\n",
    "for filename in tqdm(filelist):\n",
    "    day = pd.read_csv(\n",
    "        filename,\n",
    "        sep=\" \",\n",
    "        header=None,\n",
    "        index_col=False,\n",
    "        names=[\n",
    "            \"segment_id\",\n",
    "            \"origin\",\n",
    "            \"destination\",\n",
    "            \"ac_type\",\n",
    "            \"segment_start_t\",\n",
    "            \"segment_stop_t\",\n",
    "            \"segment_start_fl\",\n",
    "            \"segment_stop_fl\",\n",
    "            \"segment_status\",\n",
    "            \"callsign\",\n",
    "            \"segment_start_d\",\n",
    "            \"segment_stop_d\",\n",
    "            \"segment_start_lat\",\n",
    "            \"segment_start_lon\",\n",
    "            \"segment_stop_lat\",\n",
    "            \"segment_stop_lon\",\n",
    "            \"identifier\",\n",
    "            \"sequence\",\n",
    "            \"segment_length_nm\",\n",
    "            \"segment_parity_color\",\n",
    "        ],\n",
    "    )\n",
    "    read_files.append(day)\n",
    "\n",
    "# Concatenate the list of dataframes into a single dataframe\n",
    "m1_all = pd.concat(read_files)\n",
    "# m1_all"
   ]
  },
  {
   "cell_type": "markdown",
   "metadata": {},
   "source": [
    "##### Import of flightlist data"
   ]
  },
  {
   "cell_type": "code",
   "execution_count": null,
   "metadata": {},
   "outputs": [],
   "source": [
    "flightlist = pd.read_parquet(\n",
    "    \"/mnt/beegfs/store/Projects_CRM/RAD_paper/flightplans/flightlist/flights_jan_2023-05-01_2024-05-01.parquet\"\n",
    ")\n",
    "# flightlist"
   ]
  },
  {
   "cell_type": "markdown",
   "metadata": {},
   "source": [
    "***\n",
    "### Preprocessing of data\n",
    "***"
   ]
  },
  {
   "cell_type": "markdown",
   "metadata": {},
   "source": [
    "##### Preprocessing of M1 data"
   ]
  },
  {
   "cell_type": "code",
   "execution_count": null,
   "metadata": {},
   "outputs": [],
   "source": [
    "# Convert the lat and lon columns decimal minutes to decimal degrees\n",
    "m1_all[\"segment_start_lat\"] = m1_all[\"segment_start_lat\"] / 60\n",
    "m1_all[\"segment_start_lon\"] = m1_all[\"segment_start_lon\"] / 60\n",
    "m1_all[\"segment_stop_lat\"] = m1_all[\"segment_stop_lat\"] / 60\n",
    "m1_all[\"segment_stop_lon\"] = m1_all[\"segment_stop_lon\"] / 60\n",
    "\n",
    "# Convert date and time columns to datetime\n",
    "m1_all[\"segment_start_t\"] = pd.to_datetime(\n",
    "    m1_all[\"segment_start_t\"].astype(str), format=\"%H%M%S\"\n",
    ").dt.time\n",
    "m1_all[\"segment_stop_t\"] = pd.to_datetime(\n",
    "    m1_all[\"segment_stop_t\"].astype(str), format=\"%H%M%S\"\n",
    ").dt.time\n",
    "m1_all[\"segment_start_d\"] = pd.to_datetime(\n",
    "    m1_all[\"segment_start_d\"].astype(str), format=\"%y%m%d\"\n",
    ").dt.date\n",
    "m1_all[\"segment_stop_d\"] = pd.to_datetime(\n",
    "    m1_all[\"segment_stop_d\"].astype(str), format=\"%y%m%d\"\n",
    ").dt.date"
   ]
  },
  {
   "cell_type": "markdown",
   "metadata": {},
   "source": [
    "##### Preprocessing of flightlist data"
   ]
  },
  {
   "cell_type": "code",
   "execution_count": null,
   "metadata": {},
   "outputs": [],
   "source": [
    "# Rename columns for clarity\n",
    "flightlist = flightlist.rename(\n",
    "    columns={\n",
    "        \"ID\": \"identifier\",\n",
    "        \"WK_TBL_CAT\": \"wtc\",\n",
    "        \"REGISTRATION\": \"registration\",\n",
    "        \"AIRCRAFT_ADDRESS\": \"icao24\",\n",
    "        \"AIRCRAFT_OPERATOR\": \"operator\",\n",
    "        \"ICAO_FLT_TYPE\": \"icao_flight_type\",\n",
    "    }\n",
    ")"
   ]
  },
  {
   "cell_type": "markdown",
   "metadata": {},
   "source": [
    "***\n",
    "### Data merging\n",
    "***"
   ]
  },
  {
   "cell_type": "markdown",
   "metadata": {},
   "source": [
    "##### Merge"
   ]
  },
  {
   "cell_type": "code",
   "execution_count": null,
   "metadata": {},
   "outputs": [],
   "source": [
    "# Merge using identifier column as reference\n",
    "m1_all = m1_all.merge(\n",
    "    flightlist[\n",
    "        [\n",
    "            \"identifier\",\n",
    "            \"wtc\",\n",
    "            \"registration\",\n",
    "            \"icao24\",\n",
    "            \"operator\",\n",
    "            \"icao_flight_type\",\n",
    "        ]\n",
    "    ],\n",
    "    left_on=\"identifier\",\n",
    "    right_on=\"identifier\",\n",
    "    how=\"left\",\n",
    ")\n",
    "\n",
    "# Reorder columns for clarity\n",
    "m1_all = m1_all[\n",
    "    [\n",
    "        \"identifier\",\n",
    "        \"callsign\",\n",
    "        \"operator\",\n",
    "        \"registration\",\n",
    "        \"ac_type\",\n",
    "        \"origin\",\n",
    "        \"destination\",\n",
    "        \"icao_flight_type\",\n",
    "        \"wtc\",\n",
    "        \"sequence\",\n",
    "        \"segment_id\",\n",
    "        \"segment_length_nm\",\n",
    "        \"segment_status\",\n",
    "        \"segment_parity_color\",\n",
    "        \"segment_start_d\",\n",
    "        \"segment_start_t\",\n",
    "        \"segment_start_fl\",\n",
    "        \"segment_start_lat\",\n",
    "        \"segment_start_lon\",\n",
    "        \"segment_stop_d\",\n",
    "        \"segment_stop_t\",\n",
    "        \"segment_stop_fl\",\n",
    "        \"segment_stop_lat\",\n",
    "        \"segment_stop_lon\",\n",
    "    ]\n",
    "]\n",
    "m1_all"
   ]
  },
  {
   "cell_type": "markdown",
   "metadata": {},
   "source": [
    "##### Save"
   ]
  },
  {
   "cell_type": "code",
   "execution_count": null,
   "metadata": {},
   "outputs": [],
   "source": [
    "m1_all.to_parquet(\n",
    "    \"/mnt/beegfs/store/Projects_CRM/RAD_paper/flightplans/flightplans_complete.parquet\"\n",
    ")"
   ]
  }
 ],
 "metadata": {
  "kernelspec": {
   "display_name": "Poetry via SLURM RAD",
   "language": "python",
   "name": "jupyter-eg-kernel-slurm-py39-poetry-1husc7pbp"
  }
 },
 "nbformat": 4,
 "nbformat_minor": 2
}
