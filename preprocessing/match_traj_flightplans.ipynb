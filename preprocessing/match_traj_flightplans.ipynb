{
 "cells": [
  {
   "cell_type": "markdown",
   "metadata": {},
   "source": [
    "***\n",
    "### Import of required libraries\n",
    "***"
   ]
  },
  {
   "cell_type": "code",
   "execution_count": 1,
   "metadata": {},
   "outputs": [],
   "source": [
    "from traffic.core import Traffic\n",
    "import pandas as pd\n",
    "from tqdm.auto import tqdm\n",
    "import matplotlib.pyplot as plt"
   ]
  },
  {
   "cell_type": "markdown",
   "metadata": {},
   "source": [
    "***\n",
    "#### Import and preparation of data\n",
    "***"
   ]
  },
  {
   "cell_type": "markdown",
   "metadata": {},
   "source": [
    "##### Trajectory data"
   ]
  },
  {
   "cell_type": "code",
   "execution_count": null,
   "metadata": {},
   "outputs": [],
   "source": [
    "# Path to folder containing traffic files\n",
    "traj_path = \"/mnt/beegfs/store/Projects_CRM/RAD_paper/trajectories/new/\"\n",
    "\n",
    "# Definition of relevant city pairs\n",
    "pairs = [\n",
    "    (\"EGKK\", \"LSZH\", \"london_to_zurich_EGKK.parquet\"),\n",
    "    (\"EGLC\", \"LSZH\", \"london_to_zurich_EGLC.parquet\"),\n",
    "    (\"EGLL\", \"LSZH\", \"london_to_zurich_EGLL.parquet\"),\n",
    "    (\"LSZH\", \"EGKK\", \"zurich_to_london_EGKK.parquet\"),\n",
    "    (\"LSZH\", \"EGLC\", \"zurich_to_london_EGLC.parquet\"),\n",
    "    (\"LSZH\", \"EGLL\", \"zurich_to_london_EGLL.parquet\"),\n",
    "]\n",
    "\n",
    "# Generation of dataframe containing flight_id, callsign and date over all\n",
    "# flights for all city pairs\n",
    "dfs = []\n",
    "for pair in pairs:\n",
    "    print(f\"processing {pair[0]} -> {pair[1]}\")\n",
    "    flights = Traffic.from_file(traj_path + pair[2])\n",
    "    flight_ids = []\n",
    "    callsigns = []\n",
    "    dates = []\n",
    "    for flight in flights:\n",
    "        flight_ids.append(flight.flight_id)\n",
    "        callsigns.append(flight.callsign)\n",
    "        dates.append(flight.start.date())\n",
    "    df = pd.DataFrame(\n",
    "        {\n",
    "            \"flight_id\": flight_ids,\n",
    "            \"callsign\": callsigns,\n",
    "            \"date\": dates,\n",
    "        }\n",
    "    )\n",
    "    dfs.append(df)\n",
    "osn_df = pd.concat(dfs)"
   ]
  },
  {
   "cell_type": "markdown",
   "metadata": {},
   "source": [
    "##### Flightplan data"
   ]
  },
  {
   "cell_type": "code",
   "execution_count": null,
   "metadata": {},
   "outputs": [],
   "source": [
    "# Load flightplan data\n",
    "flightplan_path = \"/mnt/beegfs/store/Projects_CRM/RAD_paper/flightplans/flightplans_complete.parquet\"\n",
    "flightplans = pd.read_parquet(flightplan_path)\n",
    "flightplans = flightplans[flightplans['operator'].isin(['SWR', 'BAW', 'EZY'])]\n",
    "\n",
    "# Generate a dataframe containing identifier, callsign and date for all flights\n",
    "# contained in the flightplan data\n",
    "ids = flightplans.identifier.unique()\n",
    "identifiers = []\n",
    "callsigns = []\n",
    "dates = []\n",
    "times = []\n",
    "for id in tqdm(ids):\n",
    "    temp = flightplans[flightplans.identifier == id]\n",
    "    identifiers.append(temp.iloc[0].identifier)\n",
    "    callsigns.append(temp.iloc[0].callsign)\n",
    "    dates.append(temp.iloc[0].segment_start_d)\n",
    "    times.append(temp.iloc[0].segment_start_t)\n",
    "flightplans_df = pd.DataFrame(\n",
    "    {\n",
    "        \"identifier\": identifiers,\n",
    "        \"callsign\": callsigns,\n",
    "        \"date\": dates,\n",
    "        \"time\": times,\n",
    "    }\n",
    ")\n",
    "flightplans_df"
   ]
  },
  {
   "cell_type": "markdown",
   "metadata": {},
   "source": [
    "***\n",
    "### Data matching\n",
    "***"
   ]
  },
  {
   "cell_type": "markdown",
   "metadata": {},
   "source": [
    "##### Matching dataframe matching identifier and flight_id based on callsign and date"
   ]
  },
  {
   "cell_type": "code",
   "execution_count": null,
   "metadata": {},
   "outputs": [],
   "source": [
    "match_df = pd.merge(\n",
    "    left=flightplans_df,\n",
    "    right=osn_df,\n",
    "    left_on=[\"date\", \"callsign\"],\n",
    "    right_on=[\"date\", \"callsign\"],\n",
    "    how=\"inner\",\n",
    ")\n",
    "match_df"
   ]
  },
  {
   "cell_type": "markdown",
   "metadata": {},
   "source": [
    "##### Grouping multiple flights per combination of callsign and date"
   ]
  },
  {
   "cell_type": "code",
   "execution_count": null,
   "metadata": {},
   "outputs": [],
   "source": [
    "match_df = (\n",
    "    match_df.groupby([\"date\", \"callsign\"], as_index=False)\n",
    "    .agg(\n",
    "        {\n",
    "            \"flight_id\": lambda x: tuple(x),\n",
    "            \"identifier\": \"first\",\n",
    "        }\n",
    "    )\n",
    "    .drop(columns=[\"date\", \"callsign\"])\n",
    ")\n",
    "match_df"
   ]
  },
  {
   "cell_type": "markdown",
   "metadata": {},
   "source": [
    "##### Add flight_id to flightplan"
   ]
  },
  {
   "cell_type": "code",
   "execution_count": null,
   "metadata": {},
   "outputs": [],
   "source": [
    "flightplans = pd.merge(\n",
    "    left=flightplans,\n",
    "    right=match_df,\n",
    "    left_on=\"identifier\",\n",
    "    right_on=\"identifier\",\n",
    "    how=\"left\",\n",
    ")"
   ]
  },
  {
   "cell_type": "markdown",
   "metadata": {},
   "source": [
    "##### Remove flights without assigned trajectories"
   ]
  },
  {
   "cell_type": "code",
   "execution_count": null,
   "metadata": {},
   "outputs": [],
   "source": [
    "print(flightplans.identifier.nunique())\n",
    "flightplans = flightplans.dropna(subset=[\"flight_id\"])\n",
    "flightplans.identifier.nunique()"
   ]
  },
  {
   "cell_type": "markdown",
   "metadata": {},
   "source": [
    "##### Remove flight without unique assignment"
   ]
  },
  {
   "cell_type": "code",
   "execution_count": null,
   "metadata": {},
   "outputs": [],
   "source": [
    "print(flightplans.identifier.nunique())\n",
    "flightplans = flightplans[flightplans['flight_id'].apply(lambda x: len(x) == 1)]\n",
    "print(flightplans.identifier.nunique())"
   ]
  },
  {
   "cell_type": "markdown",
   "metadata": {},
   "source": [
    "##### Save"
   ]
  },
  {
   "cell_type": "code",
   "execution_count": null,
   "metadata": {},
   "outputs": [],
   "source": [
    "flightplans.to_parquet(\n",
    "    \"/mnt/beegfs/store/Projects_CRM/RAD_paper/flightplans/flightplans_complete_with_flight_id.parquet\"\n",
    ")"
   ]
  },
  {
   "cell_type": "markdown",
   "metadata": {},
   "source": [
    "***\n",
    "### Analysis\n",
    "***"
   ]
  },
  {
   "cell_type": "code",
   "execution_count": 2,
   "metadata": {},
   "outputs": [],
   "source": [
    "flightplans = pd.read_parquet(\n",
    "    \"/mnt/beegfs/store/Projects_CRM/RAD_paper/flightplans/flightplans_complete_with_flight_id.parquet\"\n",
    ")"
   ]
  },
  {
   "cell_type": "code",
   "execution_count": 3,
   "metadata": {},
   "outputs": [],
   "source": [
    "flightplans_grouped = flightplans.groupby(\"identifier\").agg(\n",
    "    {\n",
    "        \"origin\": \"first\",\n",
    "        \"destination\": \"first\",\n",
    "        \"operator\": \"first\",\n",
    "        \"ac_type\": \"first\",\n",
    "        \"segment_start_d\": \"first\",\n",
    "        \"segment_start_t\": \"first\",\n",
    "    }\n",
    ")"
   ]
  },
  {
   "cell_type": "markdown",
   "metadata": {},
   "source": [
    "##### Amount per route"
   ]
  },
  {
   "cell_type": "code",
   "execution_count": 4,
   "metadata": {},
   "outputs": [
    {
     "name": "stdout",
     "output_type": "stream",
     "text": [
      "LSZH -> EGKK: 418\n",
      "EGKK -> LSZH: 430\n",
      "LSZH -> EGLC: 762\n",
      "EGLC -> LSZH: 1018\n",
      "LSZH -> EGLL: 2263\n",
      "EGLL -> LSZH: 3120\n"
     ]
    }
   ],
   "source": [
    "print(f\"LSZH -> EGKK: {len(flightplans_grouped[(flightplans_grouped.origin == 'LSZH')&(flightplans_grouped.destination == 'EGKK')])}\")\n",
    "print(f\"EGKK -> LSZH: {len(flightplans_grouped[(flightplans_grouped.origin == 'EGKK')&(flightplans_grouped.destination == 'LSZH')])}\")\n",
    "print(f\"LSZH -> EGLC: {len(flightplans_grouped[(flightplans_grouped.origin == 'LSZH')&(flightplans_grouped.destination == 'EGLC')])}\")\n",
    "print(f\"EGLC -> LSZH: {len(flightplans_grouped[(flightplans_grouped.origin == 'EGLC')&(flightplans_grouped.destination == 'LSZH')])}\")\n",
    "print(f\"LSZH -> EGLL: {len(flightplans_grouped[(flightplans_grouped.origin == 'LSZH')&(flightplans_grouped.destination == 'EGLL')])}\")\n",
    "print(f\"EGLL -> LSZH: {len(flightplans_grouped[(flightplans_grouped.origin == 'EGLL')&(flightplans_grouped.destination == 'LSZH')])}\")"
   ]
  },
  {
   "cell_type": "markdown",
   "metadata": {},
   "source": [
    "##### Amount per airline"
   ]
  },
  {
   "cell_type": "code",
   "execution_count": 5,
   "metadata": {},
   "outputs": [
    {
     "name": "stdout",
     "output_type": "stream",
     "text": [
      "SWR: 5186\n",
      "BAW: 2022\n",
      "EZY: 803\n"
     ]
    }
   ],
   "source": [
    "print(f\"SWR: {len(flightplans_grouped[flightplans_grouped.operator == 'SWR'])}\")\n",
    "print(f\"BAW: {len(flightplans_grouped[flightplans_grouped.operator == 'BAW'])}\")\n",
    "print(f\"EZY: {len(flightplans_grouped[flightplans_grouped.operator == 'EZY'])}\")"
   ]
  },
  {
   "cell_type": "markdown",
   "metadata": {},
   "source": [
    "##### Amount per type"
   ]
  },
  {
   "cell_type": "code",
   "execution_count": 6,
   "metadata": {},
   "outputs": [
    {
     "data": {
      "text/plain": [
       "ac_type\n",
       "A20N    1993\n",
       "A320    1242\n",
       "E290    1186\n",
       "A319    1029\n",
       "BCS1     797\n",
       "BCS3     776\n",
       "A21N     663\n",
       "E295     177\n",
       "A321     100\n",
       "E190      48\n",
       "Name: count, dtype: int64"
      ]
     },
     "execution_count": 6,
     "metadata": {},
     "output_type": "execute_result"
    }
   ],
   "source": [
    "flightplans_grouped.ac_type.value_counts()"
   ]
  },
  {
   "cell_type": "markdown",
   "metadata": {},
   "source": [
    "##### Distribution over time"
   ]
  },
  {
   "cell_type": "code",
   "execution_count": 7,
   "metadata": {},
   "outputs": [
    {
     "data": {
      "image/png": "[encoded data removed]",
      "text/plain": [
       "<Figure size 1000x500 with 1 Axes>"
      ]
     },
     "metadata": {},
     "output_type": "display_data"
    }
   ],
   "source": [
    "date_grouped = flightplans_grouped.groupby(flightplans_grouped['segment_start_d']).size().reset_index(name='count')\n",
    "\n",
    "plt.figure(figsize=(10, 5))\n",
    "plt.bar(date_grouped[\"segment_start_d\"], date_grouped[\"count\"], width=1.0, color=\"skyblue\", edgecolor=\"black\")\n",
    "plt.xlabel(\"Date\")\n",
    "plt.ylabel(\"Count\")\n",
    "plt.title(\"Daily Flights\")\n",
    "plt.xticks(rotation=45)\n",
    "plt.tight_layout()\n",
    "plt.show()"
   ]
  },
  {
   "cell_type": "markdown",
   "metadata": {},
   "source": [
    "##### Percentage of available flightplans"
   ]
  },
  {
   "cell_type": "code",
   "execution_count": 8,
   "metadata": {},
   "outputs": [
    {
     "name": "stdout",
     "output_type": "stream",
     "text": [
      "LSZH -> EGKK: 65.0%\n",
      "EGKK -> LSZH: 67.2%\n",
      "LSZH -> EGLC: 60.7%\n",
      "EGLC -> LSZH: 81.1%\n",
      "LSZH -> EGLL: 53.1%\n",
      "EGLL -> LSZH: 73.2%\n"
     ]
    }
   ],
   "source": [
    "full_flightplan = pd.read_parquet(\n",
    "    \"/mnt/beegfs/store/Projects_CRM/RAD_paper/flightplans/flightplans_complete.parquet\"\n",
    ")\n",
    "full_flightplan = full_flightplan[full_flightplan['operator'].isin(['SWR', 'BAW', 'EZY'])]\n",
    "full_flightplan = full_flightplan.groupby(\"identifier\").agg(\n",
    "    {\n",
    "        \"origin\": \"first\",\n",
    "        \"destination\": \"first\",\n",
    "    }\n",
    ")\n",
    "reduced = pd.read_parquet(\n",
    "    \"/mnt/beegfs/store/Projects_CRM/RAD_paper/flightplans/flightplans_complete_with_flight_id.parquet\"\n",
    ")\n",
    "reduced = reduced.groupby(\"identifier\").agg(\n",
    "    {\n",
    "        \"origin\": \"first\",\n",
    "        \"destination\": \"first\",\n",
    "    }\n",
    ")\n",
    "\n",
    "print(f\"LSZH -> EGKK: {round(100*len(reduced[(reduced.origin == 'LSZH')&(reduced.destination == 'EGKK')])/len(full_flightplan[(full_flightplan.origin == 'LSZH')&(full_flightplan.destination == 'EGKK')]),1)}%\")\n",
    "print(f\"EGKK -> LSZH: {round(100*len(reduced[(reduced.origin == 'EGKK')&(reduced.destination == 'LSZH')])/len(full_flightplan[(full_flightplan.origin == 'EGKK')&(full_flightplan.destination == 'LSZH')]),1)}%\")\n",
    "print(f\"LSZH -> EGLC: {round(100*len(reduced[(reduced.origin == 'LSZH')&(reduced.destination == 'EGLC')])/len(full_flightplan[(full_flightplan.origin == 'LSZH')&(full_flightplan.destination == 'EGLC')]),1)}%\")\n",
    "print(f\"EGLC -> LSZH: {round(100*len(reduced[(reduced.origin == 'EGLC')&(reduced.destination == 'LSZH')])/len(full_flightplan[(full_flightplan.origin == 'EGLC')&(full_flightplan.destination == 'LSZH')]),1)}%\")\n",
    "print(f\"LSZH -> EGLL: {round(100*len(reduced[(reduced.origin == 'LSZH')&(reduced.destination == 'EGLL')])/len(full_flightplan[(full_flightplan.origin == 'LSZH')&(full_flightplan.destination == 'EGLL')]),1)}%\")\n",
    "print(f\"EGLL -> LSZH: {round(100*len(reduced[(reduced.origin == 'EGLL')&(reduced.destination == 'LSZH')])/len(full_flightplan[(full_flightplan.origin == 'EGLL')&(full_flightplan.destination == 'LSZH')]),1)}%\")"
   ]
  },
  {
   "cell_type": "code",
   "execution_count": null,
   "metadata": {},
   "outputs": [],
   "source": []
  }
 ],
 "metadata": {
  "kernelspec": {
   "display_name": "Poetry via SLURM RAD",
   "language": "python",
   "name": "jupyter-eg-kernel-slurm-py39-poetry-rad"
  },
  "language_info": {
   "codemirror_mode": {
    "name": "ipython",
    "version": 3
   },
   "file_extension": ".py",
   "mimetype": "text/x-python",
   "name": "python",
   "nbconvert_exporter": "python",
   "pygments_lexer": "ipython3",
   "version": "3.11.7"
  }
 },
 "nbformat": 4,
 "nbformat_minor": 2
}
