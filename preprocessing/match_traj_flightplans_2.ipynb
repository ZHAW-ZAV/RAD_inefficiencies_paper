{
 "cells": [
  {
   "cell_type": "markdown",
   "metadata": {},
   "source": [
    "***\n",
    "### Import of required libraries\n",
    "***"
   ]
  },
  {
   "cell_type": "code",
   "execution_count": 17,
   "metadata": {},
   "outputs": [],
   "source": [
    "from traffic.core import Traffic\n",
    "import pandas as pd\n",
    "from tqdm.auto import tqdm\n",
    "import matplotlib.pyplot as plt"
   ]
  },
  {
   "cell_type": "markdown",
   "metadata": {},
   "source": [
    "***\n",
    "#### Import and preparation of data\n",
    "***"
   ]
  },
  {
   "cell_type": "markdown",
   "metadata": {},
   "source": [
    "##### Trajectory data"
   ]
  },
  {
   "cell_type": "code",
   "execution_count": 18,
   "metadata": {},
   "outputs": [
    {
     "name": "stdout",
     "output_type": "stream",
     "text": [
      "processing EGKK -> LSZH\n",
      "processing EGLC -> LSZH\n",
      "processing EGLL -> LSZH\n",
      "processing LSZH -> EGKK\n",
      "processing LSZH -> EGLC\n",
      "processing LSZH -> EGLL\n"
     ]
    }
   ],
   "source": [
    "# Path to folder containing traffic files\n",
    "traj_path = \"/store/Projects_CRM/RAD_paper/RAD_new_data/trajectories/\"\n",
    "\n",
    "# Definition of relevant city pairs\n",
    "pairs = [\n",
    "    (\"EGKK\", \"LSZH\", \"london_to_zurich_EGKK.parquet\"),\n",
    "    (\"EGLC\", \"LSZH\", \"london_to_zurich_EGLC.parquet\"),\n",
    "    (\"EGLL\", \"LSZH\", \"london_to_zurich_EGLL.parquet\"),\n",
    "    (\"LSZH\", \"EGKK\", \"zurich_to_london_EGKK.parquet\"),\n",
    "    (\"LSZH\", \"EGLC\", \"zurich_to_london_EGLC.parquet\"),\n",
    "    (\"LSZH\", \"EGLL\", \"zurich_to_london_EGLL.parquet\"),\n",
    "]\n",
    "\n",
    "# Generation of dataframe containing flight_id, callsign and date over all\n",
    "# flights for all city pairs\n",
    "dfs = []\n",
    "for pair in pairs:\n",
    "    print(f\"processing {pair[0]} -> {pair[1]}\")\n",
    "    flights = Traffic.from_file(traj_path + pair[2])\n",
    "    flight_ids = []\n",
    "    callsigns = []\n",
    "    dates = []\n",
    "    for flight in flights:\n",
    "        flight_ids.append(flight.flight_id)\n",
    "        callsigns.append(flight.callsign)\n",
    "        dates.append(flight.start.date())\n",
    "    df = pd.DataFrame(\n",
    "        {\n",
    "            \"flight_id\": flight_ids,\n",
    "            \"callsign\": callsigns,\n",
    "            \"date\": dates,\n",
    "        }\n",
    "    )\n",
    "    dfs.append(df)\n",
    "osn_df = pd.concat(dfs)"
   ]
  },
  {
   "cell_type": "markdown",
   "metadata": {},
   "source": [
    "##### Flightplan data"
   ]
  },
  {
   "cell_type": "code",
   "execution_count": 19,
   "metadata": {},
   "outputs": [
    {
     "data": {
      "application/vnd.jupyter.widget-view+json": {
       "model_id": "45498a4ee3914f46b8090840b19f16c2",
       "version_major": 2,
       "version_minor": 0
      },
      "text/plain": [
       "  0%|          | 0/4987 [00:00<?, ?it/s]"
      ]
     },
     "metadata": {},
     "output_type": "display_data"
    },
    {
     "data": {
      "text/html": [
       "<div>\n",
       "<style scoped>\n",
       "    .dataframe tbody tr th:only-of-type {\n",
       "        vertical-align: middle;\n",
       "    }\n",
       "\n",
       "    .dataframe tbody tr th {\n",
       "        vertical-align: top;\n",
       "    }\n",
       "\n",
       "    .dataframe thead th {\n",
       "        text-align: right;\n",
       "    }\n",
       "</style>\n",
       "<table border=\"1\" class=\"dataframe\">\n",
       "  <thead>\n",
       "    <tr style=\"text-align: right;\">\n",
       "      <th></th>\n",
       "      <th>identifier</th>\n",
       "      <th>callsign</th>\n",
       "      <th>date</th>\n",
       "      <th>time</th>\n",
       "    </tr>\n",
       "  </thead>\n",
       "  <tbody>\n",
       "    <tr>\n",
       "      <th>0</th>\n",
       "      <td>271656154</td>\n",
       "      <td>SWR81C</td>\n",
       "      <td>2024-05-01</td>\n",
       "      <td>05:14:00</td>\n",
       "    </tr>\n",
       "    <tr>\n",
       "      <th>1</th>\n",
       "      <td>271656552</td>\n",
       "      <td>BAW709</td>\n",
       "      <td>2024-05-01</td>\n",
       "      <td>05:20:00</td>\n",
       "    </tr>\n",
       "    <tr>\n",
       "      <th>2</th>\n",
       "      <td>271656580</td>\n",
       "      <td>SWR188L</td>\n",
       "      <td>2024-05-01</td>\n",
       "      <td>05:31:00</td>\n",
       "    </tr>\n",
       "    <tr>\n",
       "      <th>3</th>\n",
       "      <td>271657131</td>\n",
       "      <td>BAW710R</td>\n",
       "      <td>2024-05-01</td>\n",
       "      <td>05:46:00</td>\n",
       "    </tr>\n",
       "    <tr>\n",
       "      <th>4</th>\n",
       "      <td>271657573</td>\n",
       "      <td>SWR40T</td>\n",
       "      <td>2024-05-01</td>\n",
       "      <td>06:09:00</td>\n",
       "    </tr>\n",
       "    <tr>\n",
       "      <th>...</th>\n",
       "      <td>...</td>\n",
       "      <td>...</td>\n",
       "      <td>...</td>\n",
       "      <td>...</td>\n",
       "    </tr>\n",
       "    <tr>\n",
       "      <th>4982</th>\n",
       "      <td>277035880</td>\n",
       "      <td>SWR693P</td>\n",
       "      <td>2024-09-30</td>\n",
       "      <td>19:10:00</td>\n",
       "    </tr>\n",
       "    <tr>\n",
       "      <th>4983</th>\n",
       "      <td>277036569</td>\n",
       "      <td>SWR24C</td>\n",
       "      <td>2024-09-30</td>\n",
       "      <td>19:19:00</td>\n",
       "    </tr>\n",
       "    <tr>\n",
       "      <th>4984</th>\n",
       "      <td>277036744</td>\n",
       "      <td>SWR339</td>\n",
       "      <td>2024-09-30</td>\n",
       "      <td>19:42:00</td>\n",
       "    </tr>\n",
       "    <tr>\n",
       "      <th>4985</th>\n",
       "      <td>277038044</td>\n",
       "      <td>BAW719</td>\n",
       "      <td>2024-09-30</td>\n",
       "      <td>20:16:00</td>\n",
       "    </tr>\n",
       "    <tr>\n",
       "      <th>4986</th>\n",
       "      <td>277038637</td>\n",
       "      <td>EZY93NG</td>\n",
       "      <td>2024-09-30</td>\n",
       "      <td>20:53:00</td>\n",
       "    </tr>\n",
       "  </tbody>\n",
       "</table>\n",
       "<p>4987 rows × 4 columns</p>\n",
       "</div>"
      ],
      "text/plain": [
       "      identifier callsign        date      time\n",
       "0      271656154   SWR81C  2024-05-01  05:14:00\n",
       "1      271656552   BAW709  2024-05-01  05:20:00\n",
       "2      271656580  SWR188L  2024-05-01  05:31:00\n",
       "3      271657131  BAW710R  2024-05-01  05:46:00\n",
       "4      271657573   SWR40T  2024-05-01  06:09:00\n",
       "...          ...      ...         ...       ...\n",
       "4982   277035880  SWR693P  2024-09-30  19:10:00\n",
       "4983   277036569   SWR24C  2024-09-30  19:19:00\n",
       "4984   277036744   SWR339  2024-09-30  19:42:00\n",
       "4985   277038044   BAW719  2024-09-30  20:16:00\n",
       "4986   277038637  EZY93NG  2024-09-30  20:53:00\n",
       "\n",
       "[4987 rows x 4 columns]"
      ]
     },
     "execution_count": 19,
     "metadata": {},
     "output_type": "execute_result"
    }
   ],
   "source": [
    "# Load flightplan data\n",
    "flightplan_path = (\n",
    "    \"/store/Projects_CRM/RAD_paper/RAD_new_data/flightplans_complete.parquet\"\n",
    ")\n",
    "flightplans = pd.read_parquet(flightplan_path)\n",
    "flightplans = flightplans[flightplans[\"operator\"].isin([\"SWR\", \"BAW\", \"EZY\"])]\n",
    "\n",
    "# Generate a dataframe containing identifier, callsign and date for all flights\n",
    "# contained in the flightplan data\n",
    "ids = flightplans.identifier.unique()\n",
    "identifiers = []\n",
    "callsigns = []\n",
    "dates = []\n",
    "times = []\n",
    "for id in tqdm(ids):\n",
    "    temp = flightplans[flightplans.identifier == id]\n",
    "    identifiers.append(temp.iloc[0].identifier)\n",
    "    callsigns.append(temp.iloc[0].callsign)\n",
    "    dates.append(temp.iloc[0].segment_start_d)\n",
    "    times.append(temp.iloc[0].segment_start_t)\n",
    "flightplans_df = pd.DataFrame(\n",
    "    {\n",
    "        \"identifier\": identifiers,\n",
    "        \"callsign\": callsigns,\n",
    "        \"date\": dates,\n",
    "        \"time\": times,\n",
    "    }\n",
    ")\n",
    "flightplans_df"
   ]
  },
  {
   "cell_type": "markdown",
   "metadata": {},
   "source": [
    "***\n",
    "### Data matching\n",
    "***"
   ]
  },
  {
   "cell_type": "markdown",
   "metadata": {},
   "source": [
    "##### Matching dataframe matching identifier and flight_id based on callsign and date"
   ]
  },
  {
   "cell_type": "code",
   "execution_count": 20,
   "metadata": {},
   "outputs": [
    {
     "data": {
      "text/html": [
       "<div>\n",
       "<style scoped>\n",
       "    .dataframe tbody tr th:only-of-type {\n",
       "        vertical-align: middle;\n",
       "    }\n",
       "\n",
       "    .dataframe tbody tr th {\n",
       "        vertical-align: top;\n",
       "    }\n",
       "\n",
       "    .dataframe thead th {\n",
       "        text-align: right;\n",
       "    }\n",
       "</style>\n",
       "<table border=\"1\" class=\"dataframe\">\n",
       "  <thead>\n",
       "    <tr style=\"text-align: right;\">\n",
       "      <th></th>\n",
       "      <th>identifier</th>\n",
       "      <th>callsign</th>\n",
       "      <th>date</th>\n",
       "      <th>time</th>\n",
       "      <th>flight_id</th>\n",
       "    </tr>\n",
       "  </thead>\n",
       "  <tbody>\n",
       "    <tr>\n",
       "      <th>0</th>\n",
       "      <td>271656154</td>\n",
       "      <td>SWR81C</td>\n",
       "      <td>2024-05-01</td>\n",
       "      <td>05:14:00</td>\n",
       "      <td>SWR81C_1201</td>\n",
       "    </tr>\n",
       "    <tr>\n",
       "      <th>1</th>\n",
       "      <td>271656552</td>\n",
       "      <td>BAW709</td>\n",
       "      <td>2024-05-01</td>\n",
       "      <td>05:20:00</td>\n",
       "      <td>BAW709_655</td>\n",
       "    </tr>\n",
       "    <tr>\n",
       "      <th>2</th>\n",
       "      <td>271657573</td>\n",
       "      <td>SWR40T</td>\n",
       "      <td>2024-05-01</td>\n",
       "      <td>06:09:00</td>\n",
       "      <td>SWR40T_1681</td>\n",
       "    </tr>\n",
       "    <tr>\n",
       "      <th>3</th>\n",
       "      <td>271658095</td>\n",
       "      <td>EZY12FZ</td>\n",
       "      <td>2024-05-01</td>\n",
       "      <td>06:47:00</td>\n",
       "      <td>EZY12FZ_371</td>\n",
       "    </tr>\n",
       "    <tr>\n",
       "      <th>4</th>\n",
       "      <td>271659167</td>\n",
       "      <td>SWR3EZ</td>\n",
       "      <td>2024-05-01</td>\n",
       "      <td>07:12:00</td>\n",
       "      <td>SWR3EZ_1337</td>\n",
       "    </tr>\n",
       "    <tr>\n",
       "      <th>...</th>\n",
       "      <td>...</td>\n",
       "      <td>...</td>\n",
       "      <td>...</td>\n",
       "      <td>...</td>\n",
       "      <td>...</td>\n",
       "    </tr>\n",
       "    <tr>\n",
       "      <th>3532</th>\n",
       "      <td>277035420</td>\n",
       "      <td>EZY82UF</td>\n",
       "      <td>2024-09-30</td>\n",
       "      <td>18:55:00</td>\n",
       "      <td>EZY82UF_312</td>\n",
       "    </tr>\n",
       "    <tr>\n",
       "      <th>3533</th>\n",
       "      <td>277035676</td>\n",
       "      <td>BAW720T</td>\n",
       "      <td>2024-09-30</td>\n",
       "      <td>19:00:00</td>\n",
       "      <td>BAW720T_015</td>\n",
       "    </tr>\n",
       "    <tr>\n",
       "      <th>3534</th>\n",
       "      <td>277036569</td>\n",
       "      <td>SWR24C</td>\n",
       "      <td>2024-09-30</td>\n",
       "      <td>19:19:00</td>\n",
       "      <td>SWR24C_1240</td>\n",
       "    </tr>\n",
       "    <tr>\n",
       "      <th>3535</th>\n",
       "      <td>277036744</td>\n",
       "      <td>SWR339</td>\n",
       "      <td>2024-09-30</td>\n",
       "      <td>19:42:00</td>\n",
       "      <td>SWR339_2515</td>\n",
       "    </tr>\n",
       "    <tr>\n",
       "      <th>3536</th>\n",
       "      <td>277038637</td>\n",
       "      <td>EZY93NG</td>\n",
       "      <td>2024-09-30</td>\n",
       "      <td>20:53:00</td>\n",
       "      <td>EZY93NG_219</td>\n",
       "    </tr>\n",
       "  </tbody>\n",
       "</table>\n",
       "<p>3537 rows × 5 columns</p>\n",
       "</div>"
      ],
      "text/plain": [
       "      identifier callsign        date      time    flight_id\n",
       "0      271656154   SWR81C  2024-05-01  05:14:00  SWR81C_1201\n",
       "1      271656552   BAW709  2024-05-01  05:20:00   BAW709_655\n",
       "2      271657573   SWR40T  2024-05-01  06:09:00  SWR40T_1681\n",
       "3      271658095  EZY12FZ  2024-05-01  06:47:00  EZY12FZ_371\n",
       "4      271659167   SWR3EZ  2024-05-01  07:12:00  SWR3EZ_1337\n",
       "...          ...      ...         ...       ...          ...\n",
       "3532   277035420  EZY82UF  2024-09-30  18:55:00  EZY82UF_312\n",
       "3533   277035676  BAW720T  2024-09-30  19:00:00  BAW720T_015\n",
       "3534   277036569   SWR24C  2024-09-30  19:19:00  SWR24C_1240\n",
       "3535   277036744   SWR339  2024-09-30  19:42:00  SWR339_2515\n",
       "3536   277038637  EZY93NG  2024-09-30  20:53:00  EZY93NG_219\n",
       "\n",
       "[3537 rows x 5 columns]"
      ]
     },
     "execution_count": 20,
     "metadata": {},
     "output_type": "execute_result"
    }
   ],
   "source": [
    "match_df = pd.merge(\n",
    "    left=flightplans_df,\n",
    "    right=osn_df,\n",
    "    left_on=[\"date\", \"callsign\"],\n",
    "    right_on=[\"date\", \"callsign\"],\n",
    "    how=\"inner\",\n",
    ")\n",
    "match_df"
   ]
  },
  {
   "cell_type": "markdown",
   "metadata": {},
   "source": [
    "##### Grouping multiple flights per combination of callsign and date"
   ]
  },
  {
   "cell_type": "code",
   "execution_count": 21,
   "metadata": {},
   "outputs": [
    {
     "data": {
      "text/html": [
       "<div>\n",
       "<style scoped>\n",
       "    .dataframe tbody tr th:only-of-type {\n",
       "        vertical-align: middle;\n",
       "    }\n",
       "\n",
       "    .dataframe tbody tr th {\n",
       "        vertical-align: top;\n",
       "    }\n",
       "\n",
       "    .dataframe thead th {\n",
       "        text-align: right;\n",
       "    }\n",
       "</style>\n",
       "<table border=\"1\" class=\"dataframe\">\n",
       "  <thead>\n",
       "    <tr style=\"text-align: right;\">\n",
       "      <th></th>\n",
       "      <th>flight_id</th>\n",
       "      <th>identifier</th>\n",
       "    </tr>\n",
       "  </thead>\n",
       "  <tbody>\n",
       "    <tr>\n",
       "      <th>0</th>\n",
       "      <td>(BAW709_655,)</td>\n",
       "      <td>271656552</td>\n",
       "    </tr>\n",
       "    <tr>\n",
       "      <th>1</th>\n",
       "      <td>(BAW712T_692,)</td>\n",
       "      <td>271661068</td>\n",
       "    </tr>\n",
       "    <tr>\n",
       "      <th>2</th>\n",
       "      <td>(BAW714T_588,)</td>\n",
       "      <td>271666215</td>\n",
       "    </tr>\n",
       "    <tr>\n",
       "      <th>3</th>\n",
       "      <td>(BAW715T_552,)</td>\n",
       "      <td>271670282</td>\n",
       "    </tr>\n",
       "    <tr>\n",
       "      <th>4</th>\n",
       "      <td>(BAW718_258,)</td>\n",
       "      <td>271673308</td>\n",
       "    </tr>\n",
       "    <tr>\n",
       "      <th>...</th>\n",
       "      <td>...</td>\n",
       "      <td>...</td>\n",
       "    </tr>\n",
       "    <tr>\n",
       "      <th>3518</th>\n",
       "      <td>(SWR81C_1379,)</td>\n",
       "      <td>277010771</td>\n",
       "    </tr>\n",
       "    <tr>\n",
       "      <th>3519</th>\n",
       "      <td>(SWR8DT_2069,)</td>\n",
       "      <td>277014093</td>\n",
       "    </tr>\n",
       "    <tr>\n",
       "      <th>3520</th>\n",
       "      <td>(SWR8LX_2494,)</td>\n",
       "      <td>277016582</td>\n",
       "    </tr>\n",
       "    <tr>\n",
       "      <th>3521</th>\n",
       "      <td>(SWR9YF_1579,)</td>\n",
       "      <td>277021623</td>\n",
       "    </tr>\n",
       "    <tr>\n",
       "      <th>3522</th>\n",
       "      <td>(SWR9YP_918,)</td>\n",
       "      <td>277026949</td>\n",
       "    </tr>\n",
       "  </tbody>\n",
       "</table>\n",
       "<p>3523 rows × 2 columns</p>\n",
       "</div>"
      ],
      "text/plain": [
       "           flight_id  identifier\n",
       "0      (BAW709_655,)   271656552\n",
       "1     (BAW712T_692,)   271661068\n",
       "2     (BAW714T_588,)   271666215\n",
       "3     (BAW715T_552,)   271670282\n",
       "4      (BAW718_258,)   271673308\n",
       "...              ...         ...\n",
       "3518  (SWR81C_1379,)   277010771\n",
       "3519  (SWR8DT_2069,)   277014093\n",
       "3520  (SWR8LX_2494,)   277016582\n",
       "3521  (SWR9YF_1579,)   277021623\n",
       "3522   (SWR9YP_918,)   277026949\n",
       "\n",
       "[3523 rows x 2 columns]"
      ]
     },
     "execution_count": 21,
     "metadata": {},
     "output_type": "execute_result"
    }
   ],
   "source": [
    "match_df = (\n",
    "    match_df.groupby([\"date\", \"callsign\"], as_index=False)\n",
    "    .agg(\n",
    "        {\n",
    "            \"flight_id\": lambda x: tuple(x),\n",
    "            \"identifier\": \"first\",\n",
    "        }\n",
    "    )\n",
    "    .drop(columns=[\"date\", \"callsign\"])\n",
    ")\n",
    "match_df"
   ]
  },
  {
   "cell_type": "markdown",
   "metadata": {},
   "source": [
    "##### Add flight_id to flightplan"
   ]
  },
  {
   "cell_type": "code",
   "execution_count": 22,
   "metadata": {},
   "outputs": [],
   "source": [
    "flightplans = pd.merge(\n",
    "    left=flightplans,\n",
    "    right=match_df,\n",
    "    left_on=\"identifier\",\n",
    "    right_on=\"identifier\",\n",
    "    how=\"left\",\n",
    ")"
   ]
  },
  {
   "cell_type": "markdown",
   "metadata": {},
   "source": [
    "##### Remove flights without assigned trajectories"
   ]
  },
  {
   "cell_type": "code",
   "execution_count": 23,
   "metadata": {},
   "outputs": [
    {
     "name": "stdout",
     "output_type": "stream",
     "text": [
      "4987\n"
     ]
    },
    {
     "data": {
      "text/plain": [
       "3523"
      ]
     },
     "execution_count": 23,
     "metadata": {},
     "output_type": "execute_result"
    }
   ],
   "source": [
    "print(flightplans.identifier.nunique())\n",
    "flightplans = flightplans.dropna(subset=[\"flight_id\"])\n",
    "flightplans.identifier.nunique()"
   ]
  },
  {
   "cell_type": "markdown",
   "metadata": {},
   "source": [
    "##### Remove flight without unique assignment"
   ]
  },
  {
   "cell_type": "code",
   "execution_count": 24,
   "metadata": {},
   "outputs": [
    {
     "name": "stdout",
     "output_type": "stream",
     "text": [
      "3523\n",
      "3513\n"
     ]
    }
   ],
   "source": [
    "print(flightplans.identifier.nunique())\n",
    "flightplans = flightplans[flightplans[\"flight_id\"].apply(lambda x: len(x) == 1)]\n",
    "print(flightplans.identifier.nunique())"
   ]
  },
  {
   "cell_type": "markdown",
   "metadata": {},
   "source": [
    "##### Save"
   ]
  },
  {
   "cell_type": "code",
   "execution_count": 25,
   "metadata": {},
   "outputs": [],
   "source": [
    "flightplans.to_parquet(\n",
    "    \"/store/Projects_CRM/RAD_paper/RAD_new_data/flightplans_complete_with_flight_id.parquet\"\n",
    ")"
   ]
  },
  {
   "cell_type": "markdown",
   "metadata": {},
   "source": [
    "***\n",
    "### Analysis\n",
    "***"
   ]
  },
  {
   "cell_type": "code",
   "execution_count": 26,
   "metadata": {},
   "outputs": [],
   "source": [
    "flightplans = pd.read_parquet(\n",
    "    \"/store/Projects_CRM/RAD_paper/RAD_new_data/flightplans_complete_with_flight_id.parquet\"\n",
    ")"
   ]
  },
  {
   "cell_type": "code",
   "execution_count": 27,
   "metadata": {},
   "outputs": [],
   "source": [
    "flightplans_grouped = flightplans.groupby(\"identifier\").agg(\n",
    "    {\n",
    "        \"origin\": \"first\",\n",
    "        \"destination\": \"first\",\n",
    "        \"operator\": \"first\",\n",
    "        \"ac_type\": \"first\",\n",
    "        \"segment_start_d\": \"first\",\n",
    "        \"segment_start_t\": \"first\",\n",
    "    }\n",
    ")"
   ]
  },
  {
   "cell_type": "markdown",
   "metadata": {},
   "source": [
    "##### Amount per route"
   ]
  },
  {
   "cell_type": "code",
   "execution_count": 28,
   "metadata": {},
   "outputs": [
    {
     "name": "stdout",
     "output_type": "stream",
     "text": [
      "LSZH -> EGKK: 264\n",
      "EGKK -> LSZH: 326\n",
      "LSZH -> EGLC: 274\n",
      "EGLC -> LSZH: 388\n",
      "LSZH -> EGLL: 887\n",
      "EGLL -> LSZH: 1374\n"
     ]
    }
   ],
   "source": [
    "print(\n",
    "    f\"LSZH -> EGKK: {len(flightplans_grouped[(flightplans_grouped.origin == 'LSZH')&(flightplans_grouped.destination == 'EGKK')])}\"\n",
    ")\n",
    "print(\n",
    "    f\"EGKK -> LSZH: {len(flightplans_grouped[(flightplans_grouped.origin == 'EGKK')&(flightplans_grouped.destination == 'LSZH')])}\"\n",
    ")\n",
    "print(\n",
    "    f\"LSZH -> EGLC: {len(flightplans_grouped[(flightplans_grouped.origin == 'LSZH')&(flightplans_grouped.destination == 'EGLC')])}\"\n",
    ")\n",
    "print(\n",
    "    f\"EGLC -> LSZH: {len(flightplans_grouped[(flightplans_grouped.origin == 'EGLC')&(flightplans_grouped.destination == 'LSZH')])}\"\n",
    ")\n",
    "print(\n",
    "    f\"LSZH -> EGLL: {len(flightplans_grouped[(flightplans_grouped.origin == 'LSZH')&(flightplans_grouped.destination == 'EGLL')])}\"\n",
    ")\n",
    "print(\n",
    "    f\"EGLL -> LSZH: {len(flightplans_grouped[(flightplans_grouped.origin == 'EGLL')&(flightplans_grouped.destination == 'LSZH')])}\"\n",
    ")"
   ]
  },
  {
   "cell_type": "markdown",
   "metadata": {},
   "source": [
    "##### Amount per airline"
   ]
  },
  {
   "cell_type": "code",
   "execution_count": 29,
   "metadata": {},
   "outputs": [
    {
     "name": "stdout",
     "output_type": "stream",
     "text": [
      "SWR: 2362\n",
      "BAW: 765\n",
      "EZY: 386\n"
     ]
    }
   ],
   "source": [
    "print(f\"SWR: {len(flightplans_grouped[flightplans_grouped.operator == 'SWR'])}\")\n",
    "print(f\"BAW: {len(flightplans_grouped[flightplans_grouped.operator == 'BAW'])}\")\n",
    "print(f\"EZY: {len(flightplans_grouped[flightplans_grouped.operator == 'EZY'])}\")"
   ]
  },
  {
   "cell_type": "markdown",
   "metadata": {},
   "source": [
    "##### Amount per type"
   ]
  },
  {
   "cell_type": "code",
   "execution_count": 30,
   "metadata": {},
   "outputs": [
    {
     "data": {
      "text/plain": [
       "ac_type\n",
       "BCS3    693\n",
       "BCS1    504\n",
       "A319    490\n",
       "A320    473\n",
       "A20N    444\n",
       "A21N    350\n",
       "E290    292\n",
       "E295    128\n",
       "E190     79\n",
       "A321     45\n",
       "E195     15\n",
       "Name: count, dtype: int64"
      ]
     },
     "execution_count": 30,
     "metadata": {},
     "output_type": "execute_result"
    }
   ],
   "source": [
    "flightplans_grouped.ac_type.value_counts()"
   ]
  },
  {
   "cell_type": "markdown",
   "metadata": {},
   "source": [
    "##### Distribution over time"
   ]
  },
  {
   "cell_type": "code",
   "execution_count": 31,
   "metadata": {},
   "outputs": [
    {
     "data": {
      "image/png": "[encoded data removed]",
      "text/plain": [
       "<Figure size 1000x500 with 1 Axes>"
      ]
     },
     "metadata": {},
     "output_type": "display_data"
    }
   ],
   "source": [
    "date_grouped = (\n",
    "    flightplans_grouped.groupby(flightplans_grouped[\"segment_start_d\"])\n",
    "    .size()\n",
    "    .reset_index(name=\"count\")\n",
    ")\n",
    "\n",
    "plt.figure(figsize=(10, 5))\n",
    "plt.bar(\n",
    "    date_grouped[\"segment_start_d\"],\n",
    "    date_grouped[\"count\"],\n",
    "    width=1.0,\n",
    "    color=\"skyblue\",\n",
    "    edgecolor=\"black\",\n",
    ")\n",
    "plt.xlabel(\"Date\")\n",
    "plt.ylabel(\"Count\")\n",
    "plt.title(\"Daily Flights\")\n",
    "plt.xticks(rotation=45)\n",
    "plt.tight_layout()\n",
    "plt.show()"
   ]
  },
  {
   "cell_type": "markdown",
   "metadata": {},
   "source": [
    "##### Percentage of available flightplans"
   ]
  },
  {
   "cell_type": "code",
   "execution_count": 32,
   "metadata": {},
   "outputs": [
    {
     "name": "stdout",
     "output_type": "stream",
     "text": [
      "LSZH -> EGKK: 66.3%\n",
      "EGKK -> LSZH: 81.9%\n",
      "LSZH -> EGLC: 64.0%\n",
      "EGLC -> LSZH: 91.5%\n",
      "LSZH -> EGLL: 53.1%\n",
      "EGLL -> LSZH: 82.4%\n"
     ]
    }
   ],
   "source": [
    "full_flightplan = pd.read_parquet(\n",
    "    \"/store/Projects_CRM/RAD_paper/RAD_new_data/flightplans_complete.parquet\"\n",
    ")\n",
    "full_flightplan = full_flightplan[\n",
    "    full_flightplan[\"operator\"].isin([\"SWR\", \"BAW\", \"EZY\"])\n",
    "]\n",
    "full_flightplan = full_flightplan.groupby(\"identifier\").agg(\n",
    "    {\n",
    "        \"origin\": \"first\",\n",
    "        \"destination\": \"first\",\n",
    "    }\n",
    ")\n",
    "reduced = pd.read_parquet(\n",
    "    \"/store/Projects_CRM/RAD_paper/RAD_new_data/flightplans_complete_with_flight_id.parquet\"\n",
    ")\n",
    "reduced = reduced.groupby(\"identifier\").agg(\n",
    "    {\n",
    "        \"origin\": \"first\",\n",
    "        \"destination\": \"first\",\n",
    "    }\n",
    ")\n",
    "\n",
    "print(\n",
    "    f\"LSZH -> EGKK: {round(100*len(reduced[(reduced.origin == 'LSZH')&(reduced.destination == 'EGKK')])/len(full_flightplan[(full_flightplan.origin == 'LSZH')&(full_flightplan.destination == 'EGKK')]),1)}%\"\n",
    ")\n",
    "print(\n",
    "    f\"EGKK -> LSZH: {round(100*len(reduced[(reduced.origin == 'EGKK')&(reduced.destination == 'LSZH')])/len(full_flightplan[(full_flightplan.origin == 'EGKK')&(full_flightplan.destination == 'LSZH')]),1)}%\"\n",
    ")\n",
    "print(\n",
    "    f\"LSZH -> EGLC: {round(100*len(reduced[(reduced.origin == 'LSZH')&(reduced.destination == 'EGLC')])/len(full_flightplan[(full_flightplan.origin == 'LSZH')&(full_flightplan.destination == 'EGLC')]),1)}%\"\n",
    ")\n",
    "print(\n",
    "    f\"EGLC -> LSZH: {round(100*len(reduced[(reduced.origin == 'EGLC')&(reduced.destination == 'LSZH')])/len(full_flightplan[(full_flightplan.origin == 'EGLC')&(full_flightplan.destination == 'LSZH')]),1)}%\"\n",
    ")\n",
    "print(\n",
    "    f\"LSZH -> EGLL: {round(100*len(reduced[(reduced.origin == 'LSZH')&(reduced.destination == 'EGLL')])/len(full_flightplan[(full_flightplan.origin == 'LSZH')&(full_flightplan.destination == 'EGLL')]),1)}%\"\n",
    ")\n",
    "print(\n",
    "    f\"EGLL -> LSZH: {round(100*len(reduced[(reduced.origin == 'EGLL')&(reduced.destination == 'LSZH')])/len(full_flightplan[(full_flightplan.origin == 'EGLL')&(full_flightplan.destination == 'LSZH')]),1)}%\"\n",
    ")"
   ]
  },
  {
   "cell_type": "code",
   "execution_count": null,
   "metadata": {},
   "outputs": [],
   "source": []
  }
 ],
 "metadata": {
  "kernelspec": {
   "display_name": "conda traffic 20c long",
   "language": "python",
   "name": "jupyter-eg-kernel-slurm-py-conda-1ia9vqls1"
  }
 },
 "nbformat": 4,
 "nbformat_minor": 2
}
